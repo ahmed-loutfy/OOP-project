{
  "nbformat": 4,
  "nbformat_minor": 0,
  "metadata": {
    "colab": {
      "provenance": [],
      "collapsed_sections": [],
      "include_colab_link": true
    },
    "kernelspec": {
      "name": "python3",
      "display_name": "Python 3"
    },
    "language_info": {
      "name": "python"
    }
  },
  "cells": [
    {
      "cell_type": "markdown",
      "metadata": {
        "id": "view-in-github",
        "colab_type": "text"
      },
      "source": [
        "<a href=\"https://colab.research.google.com/github/ahmed-loutfy/OOP-project/blob/main/OOP.ipynb\" target=\"_parent\"><img src=\"https://colab.research.google.com/assets/colab-badge.svg\" alt=\"Open In Colab\"/></a>"
      ]
    },
    {
      "cell_type": "code",
      "metadata": {
        "id": "AL5nnDWNX7yJ"
      },
      "source": [
        "import pandas as pd \n",
        "import os.path"
      ],
      "execution_count": null,
      "outputs": []
    },
    {
      "cell_type": "code",
      "metadata": {
        "colab": {
          "base_uri": "https://localhost:8080/"
        },
        "id": "8Mah05WQX_Lc",
        "outputId": "1bb227a5-c95e-49ba-abe4-57e60f817729"
      },
      "source": [
        "from google.colab import *\n",
        "drive.mount('drive')"
      ],
      "execution_count": null,
      "outputs": [
        {
          "output_type": "stream",
          "name": "stdout",
          "text": [
            "Drive already mounted at drive; to attempt to forcibly remount, call drive.mount(\"drive\", force_remount=True).\n"
          ]
        }
      ]
    },
    {
      "cell_type": "code",
      "metadata": {
        "id": "HP9SMcaOGgQg"
      },
      "source": [
        "class Car:\n",
        "\n",
        "  def __init__(self, ID, Model, Year_of_Production, Kilometers_traveled, Price):\n",
        "        self.ID = ID\n",
        "        self.Model = Model\n",
        "        self.Year_of_Production = Year_of_Production\n",
        "        self.Kilometers_traveled = Kilometers_traveled\n",
        "        self.Price = Price\n",
        "\n",
        "  global cars_system\n",
        "  if os.path.isfile('/content/drive/MyDrive/cars_system.csv'):\n",
        "    cars_system = pd.read_csv('/content/drive/MyDrive/cars_system.csv') \n",
        "  else:\n",
        "    cars_system = pd.DataFrame(columns=['ID','Model','Year_of_Production','Kilometers_traveled','Price'])\n",
        "    cars_system.to_csv('cars_system.csv', index=False)\n",
        "    !cp cars_system.csv \"drive/My Drive/\"\n",
        "del_IDs=[]"
      ],
      "execution_count": null,
      "outputs": []
    },
    {
      "cell_type": "code",
      "metadata": {
        "id": "4831UtCyHr-1"
      },
      "source": [
        "def Add():\n",
        "  def generateID():\n",
        "    if len(del_IDs)!=0:\n",
        "      ID = del_IDs[0]\n",
        "      del_IDs.pop(0)\n",
        "    else:\n",
        "      ID = len(cars_system)+1\n",
        "    return ID\n",
        "  \n",
        "  ID = generateID()\n",
        "  Model = input('Your car model is: ')\n",
        "  Year_of_Production = input('Year of production of your car is: ')\n",
        "  Kilometers_traveled = input('How many Kilometers does your car traveled: ')\n",
        "  Price = input('Your car price is: ')\n",
        "  \n",
        "  new_car = Car(ID, Model, Year_of_Production, Kilometers_traveled, Price)\n",
        "\n",
        "  lst=[new_car.ID,new_car.Model,new_car.Year_of_Production,new_car.Kilometers_traveled,new_car.Price]\n",
        "  cars_system_length = len(cars_system)\n",
        "  cars_system.loc[cars_system_length] = lst"
      ],
      "execution_count": null,
      "outputs": []
    },
    {
      "cell_type": "code",
      "metadata": {
        "id": "2f0vNivqIAag"
      },
      "source": [
        "def Find ():\n",
        "  car_id = int(input(\"Please enter ID of the car: \"))\n",
        "  if (cars_system.ID==car_id).any():\n",
        "    print(cars_system.loc[cars_system['ID'] == car_id])\n",
        "  else:\n",
        "    print(\"Please enter a valid ID\")\n",
        "    Find()"
      ],
      "execution_count": null,
      "outputs": []
    },
    {
      "cell_type": "code",
      "metadata": {
        "id": "MfVn8WpuIALY"
      },
      "source": [
        "def Update():\n",
        "  print(\"To update the car model enter 1\")\n",
        "  print(\"To update the year of production enter 2\")\n",
        "  print(\"To update the traveled kilometers enter 3\")\n",
        "  print(\"To update the price enter 4\")\n",
        "  print(\"To end this proccess enter 5\")\n",
        "  operation = int(input('what do you want to update: '))\n",
        "  if operation in [1,2,3,4]:\n",
        "    car_id = int(input('Please enter ID of the car: '))\n",
        "    if (cars_system.ID==car_id).any():\n",
        "      if operation == 1:\n",
        "        upd = input('Please enter the updated car model: ')\n",
        "        cars_system.loc[cars_system['ID']==car_id,'Model']=upd\n",
        "      elif operation == 2:\n",
        "        upd = input('Please enter the updated year of production: ')\n",
        "        cars_system.loc[cars_system['ID']==car_id,'Year_of_Production']=upd\n",
        "      elif operation == 3:\n",
        "        upd = input('Please enter the updated traveled kilometers: ')\n",
        "        cars_system.loc[cars_system['ID']==car_id,'Kilometers_traveled']=upd\n",
        "      elif operation == 4:\n",
        "        upd = input('Please enter the updated price: ')\n",
        "        cars_system.loc[cars_system['ID']==car_id,'Price']=upd\n",
        "    else:\n",
        "      print(\"Please enter a valid ID\")\n",
        "    Update()\n",
        "  elif operation == 5:\n",
        "    Exit()\n",
        "  else:\n",
        "    print('out of range')\n",
        "    Update()"
      ],
      "execution_count": null,
      "outputs": []
    },
    {
      "cell_type": "code",
      "metadata": {
        "id": "DEJI2ezzIADj"
      },
      "source": [
        "def Delete():\n",
        "  car_id = int(input('please enter ID of car which you want to delete: '))\n",
        "  if (cars_system.ID==car_id).any():\n",
        "    del_IDs.append(car_id)\n",
        "    cars_system.drop(cars_system[cars_system['ID']==car_id].index,inplace=True)\n",
        "    cars_system.reset_index(inplace=True, drop=True)\n",
        "  else:\n",
        "    print(\"Please enter a valid ID\") \n",
        "    Delete()"
      ],
      "execution_count": null,
      "outputs": []
    },
    {
      "cell_type": "code",
      "metadata": {
        "id": "tiJUEw0xkYdk"
      },
      "source": [
        "def Exit():\n",
        "  cars_system.sort_values(by=['ID'],inplace=True)\n",
        "  cars_system.reset_index(inplace=True, drop=True)\n",
        "  cars_system.to_csv('cars_system.csv', index=False)\n",
        "  !cp cars_system.csv \"drive/My Drive/\"\n",
        "  print(cars_system)"
      ],
      "execution_count": null,
      "outputs": []
    },
    {
      "cell_type": "code",
      "metadata": {
        "id": "3xp4z9n4iVih"
      },
      "source": [
        "def main():\n",
        "  print(\"To add a new car to the system enter 1\")\n",
        "  print(\"To find a car enter 2\")\n",
        "  print(\"To update the info of any car enter 3\")\n",
        "  print(\"To delete a car from the system enter 4\")\n",
        "  print(\"To get out from the system enter 5\")\n",
        "  operation = int(input('what do you want to do: '))\n",
        "  \n",
        "  if operation == 1:\n",
        "    Add()\n",
        "    main()\n",
        "\n",
        "  elif operation == 2:\n",
        "    Find()\n",
        "    main()\n",
        "  \n",
        "  elif operation == 3:\n",
        "    Update()\n",
        "    main()\n",
        "\n",
        "  elif operation == 4:\n",
        "    Delete()\n",
        "    main()\n",
        "\n",
        "  elif operation == 5:\n",
        "    Exit()\n",
        "\n",
        "  else:\n",
        "    print('out of range')\n",
        "    main()"
      ],
      "execution_count": null,
      "outputs": []
    },
    {
      "cell_type": "code",
      "metadata": {
        "colab": {
          "base_uri": "https://localhost:8080/"
        },
        "id": "rgu-Cpf5leys",
        "outputId": "7f015705-214a-4ac6-87db-e88fd414a1dc"
      },
      "source": [
        "main()"
      ],
      "execution_count": null,
      "outputs": [
        {
          "output_type": "stream",
          "name": "stdout",
          "text": [
            "To add a new car to the system enter 1\n",
            "To find a car enter 2\n",
            "To update the info of any car enter 3\n",
            "To delete a car from the system enter 4\n",
            "To get out from the system enter 5\n",
            "what do you want to do: 1\n",
            "Your car model is: Honda\n",
            "Year of production of your car is: 2000\n",
            "How many Kilometers does your car traveled: 25413\n",
            "Your car price is: 8500\n",
            "To add a new car to the system enter 1\n",
            "To find a car enter 2\n",
            "To update the info of any car enter 3\n",
            "To delete a car from the system enter 4\n",
            "To get out from the system enter 5\n",
            "what do you want to do: 1\n",
            "Your car model is: Toyota\n",
            "Year of production of your car is: 1995\n",
            "How many Kilometers does your car traveled: 269754\n",
            "Your car price is: 12000\n",
            "To add a new car to the system enter 1\n",
            "To find a car enter 2\n",
            "To update the info of any car enter 3\n",
            "To delete a car from the system enter 4\n",
            "To get out from the system enter 5\n",
            "what do you want to do: 1\n",
            "Your car model is: BMW\n",
            "Year of production of your car is: 1998\n",
            "How many Kilometers does your car traveled: 7896452\n",
            "Your car price is: 20000\n",
            "To add a new car to the system enter 1\n",
            "To find a car enter 2\n",
            "To update the info of any car enter 3\n",
            "To delete a car from the system enter 4\n",
            "To get out from the system enter 5\n",
            "what do you want to do: 2\n",
            "Please enter ID of the car: 2\n",
            "  ID   Model Year_of_Production Kilometers_traveled  Price\n",
            "1  2  Toyota               1995              269754  12000\n",
            "To add a new car to the system enter 1\n",
            "To find a car enter 2\n",
            "To update the info of any car enter 3\n",
            "To delete a car from the system enter 4\n",
            "To get out from the system enter 5\n",
            "what do you want to do: 3\n",
            "To update the car model enter 1\n",
            "To update the year of production enter 2\n",
            "To update the traveled kilometers enter 3\n",
            "To update the price enter 4\n",
            "To end this proccess enter 5\n",
            "what do you want to update: 3\n",
            "Please enter ID of the car: 2\n",
            "Please enter the updated traveled kilometers: 270547\n",
            "To update the car model enter 1\n",
            "To update the year of production enter 2\n",
            "To update the traveled kilometers enter 3\n",
            "To update the price enter 4\n",
            "To end this proccess enter 5\n",
            "what do you want to update: 5\n",
            "  ID   Model Year_of_Production Kilometers_traveled  Price\n",
            "0  1   Honda               2000               25413   8500\n",
            "1  2  Toyota               1995              270547  12000\n",
            "2  3     BMW               1998             7896452  20000\n",
            "To add a new car to the system enter 1\n",
            "To find a car enter 2\n",
            "To update the info of any car enter 3\n",
            "To delete a car from the system enter 4\n",
            "To get out from the system enter 5\n",
            "what do you want to do: 4\n",
            "please enter ID of car which you want to delete: 2\n",
            "To add a new car to the system enter 1\n",
            "To find a car enter 2\n",
            "To update the info of any car enter 3\n",
            "To delete a car from the system enter 4\n",
            "To get out from the system enter 5\n",
            "what do you want to do: 1\n",
            "Your car model is: Toyota\n",
            "Year of production of your car is: 2011\n",
            "How many Kilometers does your car traveled: 20000\n",
            "Your car price is: 17000\n",
            "To add a new car to the system enter 1\n",
            "To find a car enter 2\n",
            "To update the info of any car enter 3\n",
            "To delete a car from the system enter 4\n",
            "To get out from the system enter 5\n",
            "what do you want to do: 5\n",
            "  ID   Model Year_of_Production Kilometers_traveled  Price\n",
            "0  1   Honda               2000               25413   8500\n",
            "1  2  Toyota               2011               20000  17000\n",
            "2  3     BMW               1998             7896452  20000\n"
          ]
        }
      ]
    }
  ]
}